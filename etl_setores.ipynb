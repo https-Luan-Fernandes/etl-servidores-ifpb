{
 "cells": [
  {
   "cell_type": "code",
   "id": "initial_id",
   "metadata": {
    "collapsed": true,
    "ExecuteTime": {
     "end_time": "2025-01-08T00:01:41.638551Z",
     "start_time": "2025-01-08T00:01:38.440445Z"
    }
   },
   "source": "import pandas as pd",
   "outputs": [],
   "execution_count": 5
  },
  {
   "metadata": {
    "ExecuteTime": {
     "end_time": "2025-01-07T22:55:54.732468Z",
     "start_time": "2025-01-07T22:55:53.718467Z"
    }
   },
   "cell_type": "code",
   "source": [
    "df = pd.read_csv(\"setores.csv\")\n",
    "df"
   ],
   "id": "90b3db21fa0af317",
   "outputs": [
    {
     "data": {
      "text/plain": [
       "                                                   nome         sigla  \\\n",
       "0                          INSTITUTO FEDERAL DA PARAIBA          IFPB   \n",
       "1                          INSTITUTO FEDERAL DA PARAIBA          IFPB   \n",
       "2                                      REITORIA DO IFPB     REITOR-RE   \n",
       "3                                      REITORIA DO IFPB      REITORIA   \n",
       "4                                    CHEFIA GABINETE-RE         CG-RE   \n",
       "...                                                 ...           ...   \n",
       "1956      COMISSAO LOCAL DE ACOMPANHAMENTO DAS AENPS-SS    CLAGANP-SS   \n",
       "1957              COMITÊ DE INOVAÇÃO DO IFPB - REITORIA  COINOVA-IFPB   \n",
       "1958  COMISSÃO ELEITORAL LOCAL - CAMPUS PRINCESA ISABEL    CELOCAL-PI   \n",
       "1959                   NUCLEO DE DESAFIOS ACADEMICOS-JP        NDA-JP   \n",
       "1960  COORDENACAO DO PROJETO DE EXTENSAO RESIDENCIA ...     CPERPA-SS   \n",
       "\n",
       "     superior.sigla unidade_organizacional.nome  is_siape  total_servidores  \n",
       "0               NaN                    REITORIA      True                 0  \n",
       "1               NaN                         NaN     False              2490  \n",
       "2              IFPB                    REITORIA      True                 0  \n",
       "3              IFPB                    REITORIA     False              2490  \n",
       "4              IFPB                    REITORIA      True                 0  \n",
       "...             ...                         ...       ...               ...  \n",
       "1956         DDE-SS                CAMPUS SOUSA     False                 0  \n",
       "1957      PRPIPG-RE                    REITORIA     False                 0  \n",
       "1958          DG-PI      CAMPUS PRINCESA ISABEL     False                 0  \n",
       "1959      DIPPED-JP          CAMPUS JOÃO PESSOA     False                 1  \n",
       "1960         DDE-SS                CAMPUS SOUSA     False                 0  \n",
       "\n",
       "[1961 rows x 6 columns]"
      ],
      "text/html": [
       "<div>\n",
       "<style scoped>\n",
       "    .dataframe tbody tr th:only-of-type {\n",
       "        vertical-align: middle;\n",
       "    }\n",
       "\n",
       "    .dataframe tbody tr th {\n",
       "        vertical-align: top;\n",
       "    }\n",
       "\n",
       "    .dataframe thead th {\n",
       "        text-align: right;\n",
       "    }\n",
       "</style>\n",
       "<table border=\"1\" class=\"dataframe\">\n",
       "  <thead>\n",
       "    <tr style=\"text-align: right;\">\n",
       "      <th></th>\n",
       "      <th>nome</th>\n",
       "      <th>sigla</th>\n",
       "      <th>superior.sigla</th>\n",
       "      <th>unidade_organizacional.nome</th>\n",
       "      <th>is_siape</th>\n",
       "      <th>total_servidores</th>\n",
       "    </tr>\n",
       "  </thead>\n",
       "  <tbody>\n",
       "    <tr>\n",
       "      <th>0</th>\n",
       "      <td>INSTITUTO FEDERAL DA PARAIBA</td>\n",
       "      <td>IFPB</td>\n",
       "      <td>NaN</td>\n",
       "      <td>REITORIA</td>\n",
       "      <td>True</td>\n",
       "      <td>0</td>\n",
       "    </tr>\n",
       "    <tr>\n",
       "      <th>1</th>\n",
       "      <td>INSTITUTO FEDERAL DA PARAIBA</td>\n",
       "      <td>IFPB</td>\n",
       "      <td>NaN</td>\n",
       "      <td>NaN</td>\n",
       "      <td>False</td>\n",
       "      <td>2490</td>\n",
       "    </tr>\n",
       "    <tr>\n",
       "      <th>2</th>\n",
       "      <td>REITORIA DO IFPB</td>\n",
       "      <td>REITOR-RE</td>\n",
       "      <td>IFPB</td>\n",
       "      <td>REITORIA</td>\n",
       "      <td>True</td>\n",
       "      <td>0</td>\n",
       "    </tr>\n",
       "    <tr>\n",
       "      <th>3</th>\n",
       "      <td>REITORIA DO IFPB</td>\n",
       "      <td>REITORIA</td>\n",
       "      <td>IFPB</td>\n",
       "      <td>REITORIA</td>\n",
       "      <td>False</td>\n",
       "      <td>2490</td>\n",
       "    </tr>\n",
       "    <tr>\n",
       "      <th>4</th>\n",
       "      <td>CHEFIA GABINETE-RE</td>\n",
       "      <td>CG-RE</td>\n",
       "      <td>IFPB</td>\n",
       "      <td>REITORIA</td>\n",
       "      <td>True</td>\n",
       "      <td>0</td>\n",
       "    </tr>\n",
       "    <tr>\n",
       "      <th>...</th>\n",
       "      <td>...</td>\n",
       "      <td>...</td>\n",
       "      <td>...</td>\n",
       "      <td>...</td>\n",
       "      <td>...</td>\n",
       "      <td>...</td>\n",
       "    </tr>\n",
       "    <tr>\n",
       "      <th>1956</th>\n",
       "      <td>COMISSAO LOCAL DE ACOMPANHAMENTO DAS AENPS-SS</td>\n",
       "      <td>CLAGANP-SS</td>\n",
       "      <td>DDE-SS</td>\n",
       "      <td>CAMPUS SOUSA</td>\n",
       "      <td>False</td>\n",
       "      <td>0</td>\n",
       "    </tr>\n",
       "    <tr>\n",
       "      <th>1957</th>\n",
       "      <td>COMITÊ DE INOVAÇÃO DO IFPB - REITORIA</td>\n",
       "      <td>COINOVA-IFPB</td>\n",
       "      <td>PRPIPG-RE</td>\n",
       "      <td>REITORIA</td>\n",
       "      <td>False</td>\n",
       "      <td>0</td>\n",
       "    </tr>\n",
       "    <tr>\n",
       "      <th>1958</th>\n",
       "      <td>COMISSÃO ELEITORAL LOCAL - CAMPUS PRINCESA ISABEL</td>\n",
       "      <td>CELOCAL-PI</td>\n",
       "      <td>DG-PI</td>\n",
       "      <td>CAMPUS PRINCESA ISABEL</td>\n",
       "      <td>False</td>\n",
       "      <td>0</td>\n",
       "    </tr>\n",
       "    <tr>\n",
       "      <th>1959</th>\n",
       "      <td>NUCLEO DE DESAFIOS ACADEMICOS-JP</td>\n",
       "      <td>NDA-JP</td>\n",
       "      <td>DIPPED-JP</td>\n",
       "      <td>CAMPUS JOÃO PESSOA</td>\n",
       "      <td>False</td>\n",
       "      <td>1</td>\n",
       "    </tr>\n",
       "    <tr>\n",
       "      <th>1960</th>\n",
       "      <td>COORDENACAO DO PROJETO DE EXTENSAO RESIDENCIA ...</td>\n",
       "      <td>CPERPA-SS</td>\n",
       "      <td>DDE-SS</td>\n",
       "      <td>CAMPUS SOUSA</td>\n",
       "      <td>False</td>\n",
       "      <td>0</td>\n",
       "    </tr>\n",
       "  </tbody>\n",
       "</table>\n",
       "<p>1961 rows × 6 columns</p>\n",
       "</div>"
      ]
     },
     "execution_count": 2,
     "metadata": {},
     "output_type": "execute_result"
    }
   ],
   "execution_count": 2
  },
  {
   "metadata": {},
   "cell_type": "code",
   "outputs": [],
   "execution_count": null,
   "source": "",
   "id": "a072153c3a706d3a"
  },
  {
   "metadata": {
    "ExecuteTime": {
     "end_time": "2025-01-07T22:59:15.433217Z",
     "start_time": "2025-01-07T22:59:15.349135Z"
    }
   },
   "cell_type": "code",
   "source": "df.info()",
   "id": "3fc3b5f86c1c6df5",
   "outputs": [
    {
     "name": "stdout",
     "output_type": "stream",
     "text": [
      "<class 'pandas.core.frame.DataFrame'>\n",
      "RangeIndex: 1961 entries, 0 to 1960\n",
      "Data columns (total 6 columns):\n",
      " #   Column                       Non-Null Count  Dtype \n",
      "---  ------                       --------------  ----- \n",
      " 0   nome                         1961 non-null   object\n",
      " 1   sigla                        1961 non-null   object\n",
      " 2   superior.sigla               1954 non-null   object\n",
      " 3   unidade_organizacional.nome  1955 non-null   object\n",
      " 4   is_siape                     1961 non-null   bool  \n",
      " 5   total_servidores             1961 non-null   int64 \n",
      "dtypes: bool(1), int64(1), object(4)\n",
      "memory usage: 78.6+ KB\n"
     ]
    }
   ],
   "execution_count": 3
  },
  {
   "metadata": {
    "ExecuteTime": {
     "end_time": "2025-01-07T23:00:37.932591Z",
     "start_time": "2025-01-07T23:00:37.908281Z"
    }
   },
   "cell_type": "code",
   "source": [
    "print(\"Valores nulos por coluna:\")\n",
    "print(df.isnull().sum())"
   ],
   "id": "e2e1e2bc4b256f03",
   "outputs": [
    {
     "name": "stdout",
     "output_type": "stream",
     "text": [
      "Valores nulos por coluna:\n",
      "nome                           0\n",
      "sigla                          0\n",
      "superior.sigla                 7\n",
      "unidade_organizacional.nome    6\n",
      "is_siape                       0\n",
      "total_servidores               0\n",
      "dtype: int64\n"
     ]
    }
   ],
   "execution_count": 4
  },
  {
   "metadata": {
    "ExecuteTime": {
     "end_time": "2025-01-07T23:01:22.888286Z",
     "start_time": "2025-01-07T23:01:22.848295Z"
    }
   },
   "cell_type": "code",
   "source": "df.columns",
   "id": "c61565d5865925a5",
   "outputs": [
    {
     "data": {
      "text/plain": [
       "Index(['nome', 'sigla', 'superior.sigla', 'unidade_organizacional.nome',\n",
       "       'is_siape', 'total_servidores'],\n",
       "      dtype='object')"
      ]
     },
     "execution_count": 5,
     "metadata": {},
     "output_type": "execute_result"
    }
   ],
   "execution_count": 5
  },
  {
   "metadata": {
    "ExecuteTime": {
     "end_time": "2025-01-07T23:06:48.743118Z",
     "start_time": "2025-01-07T23:06:48.611149Z"
    }
   },
   "cell_type": "code",
   "source": [
    "df.drop(columns=[\"is_siape\"], inplace=True)\n",
    "df\n"
   ],
   "id": "1c8b540ba4ba4176",
   "outputs": [
    {
     "data": {
      "text/plain": [
       "                                                   nome         sigla  \\\n",
       "0                          INSTITUTO FEDERAL DA PARAIBA          IFPB   \n",
       "1                          INSTITUTO FEDERAL DA PARAIBA          IFPB   \n",
       "2                                      REITORIA DO IFPB     REITOR-RE   \n",
       "3                                      REITORIA DO IFPB      REITORIA   \n",
       "4                                    CHEFIA GABINETE-RE         CG-RE   \n",
       "...                                                 ...           ...   \n",
       "1956      COMISSAO LOCAL DE ACOMPANHAMENTO DAS AENPS-SS    CLAGANP-SS   \n",
       "1957              COMITÊ DE INOVAÇÃO DO IFPB - REITORIA  COINOVA-IFPB   \n",
       "1958  COMISSÃO ELEITORAL LOCAL - CAMPUS PRINCESA ISABEL    CELOCAL-PI   \n",
       "1959                   NUCLEO DE DESAFIOS ACADEMICOS-JP        NDA-JP   \n",
       "1960  COORDENACAO DO PROJETO DE EXTENSAO RESIDENCIA ...     CPERPA-SS   \n",
       "\n",
       "     superior.sigla unidade_organizacional.nome  total_servidores  \n",
       "0               NaN                    REITORIA                 0  \n",
       "1               NaN                         NaN              2490  \n",
       "2              IFPB                    REITORIA                 0  \n",
       "3              IFPB                    REITORIA              2490  \n",
       "4              IFPB                    REITORIA                 0  \n",
       "...             ...                         ...               ...  \n",
       "1956         DDE-SS                CAMPUS SOUSA                 0  \n",
       "1957      PRPIPG-RE                    REITORIA                 0  \n",
       "1958          DG-PI      CAMPUS PRINCESA ISABEL                 0  \n",
       "1959      DIPPED-JP          CAMPUS JOÃO PESSOA                 1  \n",
       "1960         DDE-SS                CAMPUS SOUSA                 0  \n",
       "\n",
       "[1961 rows x 5 columns]"
      ],
      "text/html": [
       "<div>\n",
       "<style scoped>\n",
       "    .dataframe tbody tr th:only-of-type {\n",
       "        vertical-align: middle;\n",
       "    }\n",
       "\n",
       "    .dataframe tbody tr th {\n",
       "        vertical-align: top;\n",
       "    }\n",
       "\n",
       "    .dataframe thead th {\n",
       "        text-align: right;\n",
       "    }\n",
       "</style>\n",
       "<table border=\"1\" class=\"dataframe\">\n",
       "  <thead>\n",
       "    <tr style=\"text-align: right;\">\n",
       "      <th></th>\n",
       "      <th>nome</th>\n",
       "      <th>sigla</th>\n",
       "      <th>superior.sigla</th>\n",
       "      <th>unidade_organizacional.nome</th>\n",
       "      <th>total_servidores</th>\n",
       "    </tr>\n",
       "  </thead>\n",
       "  <tbody>\n",
       "    <tr>\n",
       "      <th>0</th>\n",
       "      <td>INSTITUTO FEDERAL DA PARAIBA</td>\n",
       "      <td>IFPB</td>\n",
       "      <td>NaN</td>\n",
       "      <td>REITORIA</td>\n",
       "      <td>0</td>\n",
       "    </tr>\n",
       "    <tr>\n",
       "      <th>1</th>\n",
       "      <td>INSTITUTO FEDERAL DA PARAIBA</td>\n",
       "      <td>IFPB</td>\n",
       "      <td>NaN</td>\n",
       "      <td>NaN</td>\n",
       "      <td>2490</td>\n",
       "    </tr>\n",
       "    <tr>\n",
       "      <th>2</th>\n",
       "      <td>REITORIA DO IFPB</td>\n",
       "      <td>REITOR-RE</td>\n",
       "      <td>IFPB</td>\n",
       "      <td>REITORIA</td>\n",
       "      <td>0</td>\n",
       "    </tr>\n",
       "    <tr>\n",
       "      <th>3</th>\n",
       "      <td>REITORIA DO IFPB</td>\n",
       "      <td>REITORIA</td>\n",
       "      <td>IFPB</td>\n",
       "      <td>REITORIA</td>\n",
       "      <td>2490</td>\n",
       "    </tr>\n",
       "    <tr>\n",
       "      <th>4</th>\n",
       "      <td>CHEFIA GABINETE-RE</td>\n",
       "      <td>CG-RE</td>\n",
       "      <td>IFPB</td>\n",
       "      <td>REITORIA</td>\n",
       "      <td>0</td>\n",
       "    </tr>\n",
       "    <tr>\n",
       "      <th>...</th>\n",
       "      <td>...</td>\n",
       "      <td>...</td>\n",
       "      <td>...</td>\n",
       "      <td>...</td>\n",
       "      <td>...</td>\n",
       "    </tr>\n",
       "    <tr>\n",
       "      <th>1956</th>\n",
       "      <td>COMISSAO LOCAL DE ACOMPANHAMENTO DAS AENPS-SS</td>\n",
       "      <td>CLAGANP-SS</td>\n",
       "      <td>DDE-SS</td>\n",
       "      <td>CAMPUS SOUSA</td>\n",
       "      <td>0</td>\n",
       "    </tr>\n",
       "    <tr>\n",
       "      <th>1957</th>\n",
       "      <td>COMITÊ DE INOVAÇÃO DO IFPB - REITORIA</td>\n",
       "      <td>COINOVA-IFPB</td>\n",
       "      <td>PRPIPG-RE</td>\n",
       "      <td>REITORIA</td>\n",
       "      <td>0</td>\n",
       "    </tr>\n",
       "    <tr>\n",
       "      <th>1958</th>\n",
       "      <td>COMISSÃO ELEITORAL LOCAL - CAMPUS PRINCESA ISABEL</td>\n",
       "      <td>CELOCAL-PI</td>\n",
       "      <td>DG-PI</td>\n",
       "      <td>CAMPUS PRINCESA ISABEL</td>\n",
       "      <td>0</td>\n",
       "    </tr>\n",
       "    <tr>\n",
       "      <th>1959</th>\n",
       "      <td>NUCLEO DE DESAFIOS ACADEMICOS-JP</td>\n",
       "      <td>NDA-JP</td>\n",
       "      <td>DIPPED-JP</td>\n",
       "      <td>CAMPUS JOÃO PESSOA</td>\n",
       "      <td>1</td>\n",
       "    </tr>\n",
       "    <tr>\n",
       "      <th>1960</th>\n",
       "      <td>COORDENACAO DO PROJETO DE EXTENSAO RESIDENCIA ...</td>\n",
       "      <td>CPERPA-SS</td>\n",
       "      <td>DDE-SS</td>\n",
       "      <td>CAMPUS SOUSA</td>\n",
       "      <td>0</td>\n",
       "    </tr>\n",
       "  </tbody>\n",
       "</table>\n",
       "<p>1961 rows × 5 columns</p>\n",
       "</div>"
      ]
     },
     "execution_count": 6,
     "metadata": {},
     "output_type": "execute_result"
    }
   ],
   "execution_count": 6
  },
  {
   "metadata": {
    "ExecuteTime": {
     "end_time": "2025-01-07T23:10:12.165064Z",
     "start_time": "2025-01-07T23:10:12.131495Z"
    }
   },
   "cell_type": "code",
   "source": [
    "df.fillna({\n",
    "    'superior.sigla': 'NAO INFORMADO',\n",
    "    'unidade_organizacional.nome': 'NAO INFORMADO'\n",
    "}, inplace=True)\n",
    "print(df.isnull().sum())"
   ],
   "id": "4e7360d790cb9e13",
   "outputs": [
    {
     "name": "stdout",
     "output_type": "stream",
     "text": [
      "nome                           0\n",
      "sigla                          0\n",
      "superior.sigla                 0\n",
      "unidade_organizacional.nome    0\n",
      "total_servidores               0\n",
      "dtype: int64\n"
     ]
    }
   ],
   "execution_count": 7
  },
  {
   "metadata": {
    "ExecuteTime": {
     "end_time": "2025-01-07T23:14:52.588717Z",
     "start_time": "2025-01-07T23:14:52.543139Z"
    }
   },
   "cell_type": "code",
   "source": [
    "df = df.rename(columns={\"superior.sigla\": \"sigla_superior\", \"unidade_organizacional.nome\": \"unidade_organizacional\"})\n",
    "df"
   ],
   "id": "d3dacbef5944643b",
   "outputs": [
    {
     "data": {
      "text/plain": [
       "                                                   nome         sigla  \\\n",
       "0                          INSTITUTO FEDERAL DA PARAIBA          IFPB   \n",
       "1                          INSTITUTO FEDERAL DA PARAIBA          IFPB   \n",
       "2                                      REITORIA DO IFPB     REITOR-RE   \n",
       "3                                      REITORIA DO IFPB      REITORIA   \n",
       "4                                    CHEFIA GABINETE-RE         CG-RE   \n",
       "...                                                 ...           ...   \n",
       "1956      COMISSAO LOCAL DE ACOMPANHAMENTO DAS AENPS-SS    CLAGANP-SS   \n",
       "1957              COMITÊ DE INOVAÇÃO DO IFPB - REITORIA  COINOVA-IFPB   \n",
       "1958  COMISSÃO ELEITORAL LOCAL - CAMPUS PRINCESA ISABEL    CELOCAL-PI   \n",
       "1959                   NUCLEO DE DESAFIOS ACADEMICOS-JP        NDA-JP   \n",
       "1960  COORDENACAO DO PROJETO DE EXTENSAO RESIDENCIA ...     CPERPA-SS   \n",
       "\n",
       "     sigla_superior  unidade_organizacional  total_servidores  \n",
       "0     NAO INFORMADO                REITORIA                 0  \n",
       "1     NAO INFORMADO           NAO INFORMADO              2490  \n",
       "2              IFPB                REITORIA                 0  \n",
       "3              IFPB                REITORIA              2490  \n",
       "4              IFPB                REITORIA                 0  \n",
       "...             ...                     ...               ...  \n",
       "1956         DDE-SS            CAMPUS SOUSA                 0  \n",
       "1957      PRPIPG-RE                REITORIA                 0  \n",
       "1958          DG-PI  CAMPUS PRINCESA ISABEL                 0  \n",
       "1959      DIPPED-JP      CAMPUS JOÃO PESSOA                 1  \n",
       "1960         DDE-SS            CAMPUS SOUSA                 0  \n",
       "\n",
       "[1961 rows x 5 columns]"
      ],
      "text/html": [
       "<div>\n",
       "<style scoped>\n",
       "    .dataframe tbody tr th:only-of-type {\n",
       "        vertical-align: middle;\n",
       "    }\n",
       "\n",
       "    .dataframe tbody tr th {\n",
       "        vertical-align: top;\n",
       "    }\n",
       "\n",
       "    .dataframe thead th {\n",
       "        text-align: right;\n",
       "    }\n",
       "</style>\n",
       "<table border=\"1\" class=\"dataframe\">\n",
       "  <thead>\n",
       "    <tr style=\"text-align: right;\">\n",
       "      <th></th>\n",
       "      <th>nome</th>\n",
       "      <th>sigla</th>\n",
       "      <th>sigla_superior</th>\n",
       "      <th>unidade_organizacional</th>\n",
       "      <th>total_servidores</th>\n",
       "    </tr>\n",
       "  </thead>\n",
       "  <tbody>\n",
       "    <tr>\n",
       "      <th>0</th>\n",
       "      <td>INSTITUTO FEDERAL DA PARAIBA</td>\n",
       "      <td>IFPB</td>\n",
       "      <td>NAO INFORMADO</td>\n",
       "      <td>REITORIA</td>\n",
       "      <td>0</td>\n",
       "    </tr>\n",
       "    <tr>\n",
       "      <th>1</th>\n",
       "      <td>INSTITUTO FEDERAL DA PARAIBA</td>\n",
       "      <td>IFPB</td>\n",
       "      <td>NAO INFORMADO</td>\n",
       "      <td>NAO INFORMADO</td>\n",
       "      <td>2490</td>\n",
       "    </tr>\n",
       "    <tr>\n",
       "      <th>2</th>\n",
       "      <td>REITORIA DO IFPB</td>\n",
       "      <td>REITOR-RE</td>\n",
       "      <td>IFPB</td>\n",
       "      <td>REITORIA</td>\n",
       "      <td>0</td>\n",
       "    </tr>\n",
       "    <tr>\n",
       "      <th>3</th>\n",
       "      <td>REITORIA DO IFPB</td>\n",
       "      <td>REITORIA</td>\n",
       "      <td>IFPB</td>\n",
       "      <td>REITORIA</td>\n",
       "      <td>2490</td>\n",
       "    </tr>\n",
       "    <tr>\n",
       "      <th>4</th>\n",
       "      <td>CHEFIA GABINETE-RE</td>\n",
       "      <td>CG-RE</td>\n",
       "      <td>IFPB</td>\n",
       "      <td>REITORIA</td>\n",
       "      <td>0</td>\n",
       "    </tr>\n",
       "    <tr>\n",
       "      <th>...</th>\n",
       "      <td>...</td>\n",
       "      <td>...</td>\n",
       "      <td>...</td>\n",
       "      <td>...</td>\n",
       "      <td>...</td>\n",
       "    </tr>\n",
       "    <tr>\n",
       "      <th>1956</th>\n",
       "      <td>COMISSAO LOCAL DE ACOMPANHAMENTO DAS AENPS-SS</td>\n",
       "      <td>CLAGANP-SS</td>\n",
       "      <td>DDE-SS</td>\n",
       "      <td>CAMPUS SOUSA</td>\n",
       "      <td>0</td>\n",
       "    </tr>\n",
       "    <tr>\n",
       "      <th>1957</th>\n",
       "      <td>COMITÊ DE INOVAÇÃO DO IFPB - REITORIA</td>\n",
       "      <td>COINOVA-IFPB</td>\n",
       "      <td>PRPIPG-RE</td>\n",
       "      <td>REITORIA</td>\n",
       "      <td>0</td>\n",
       "    </tr>\n",
       "    <tr>\n",
       "      <th>1958</th>\n",
       "      <td>COMISSÃO ELEITORAL LOCAL - CAMPUS PRINCESA ISABEL</td>\n",
       "      <td>CELOCAL-PI</td>\n",
       "      <td>DG-PI</td>\n",
       "      <td>CAMPUS PRINCESA ISABEL</td>\n",
       "      <td>0</td>\n",
       "    </tr>\n",
       "    <tr>\n",
       "      <th>1959</th>\n",
       "      <td>NUCLEO DE DESAFIOS ACADEMICOS-JP</td>\n",
       "      <td>NDA-JP</td>\n",
       "      <td>DIPPED-JP</td>\n",
       "      <td>CAMPUS JOÃO PESSOA</td>\n",
       "      <td>1</td>\n",
       "    </tr>\n",
       "    <tr>\n",
       "      <th>1960</th>\n",
       "      <td>COORDENACAO DO PROJETO DE EXTENSAO RESIDENCIA ...</td>\n",
       "      <td>CPERPA-SS</td>\n",
       "      <td>DDE-SS</td>\n",
       "      <td>CAMPUS SOUSA</td>\n",
       "      <td>0</td>\n",
       "    </tr>\n",
       "  </tbody>\n",
       "</table>\n",
       "<p>1961 rows × 5 columns</p>\n",
       "</div>"
      ]
     },
     "execution_count": 10,
     "metadata": {},
     "output_type": "execute_result"
    }
   ],
   "execution_count": 10
  },
  {
   "metadata": {
    "ExecuteTime": {
     "end_time": "2025-01-07T23:16:06.832594Z",
     "start_time": "2025-01-07T23:16:06.759349Z"
    }
   },
   "cell_type": "code",
   "source": [
    "df.duplicated()\n",
    "df[df.duplicated()]"
   ],
   "id": "1a5b5d910551e8f4",
   "outputs": [
    {
     "data": {
      "text/plain": [
       "                                   nome    sigla sigla_superior  \\\n",
       "1587  COORD. PROD.FOLHA PAG. PESSOAL-RE  CPFP-RE        DCPP-RE   \n",
       "\n",
       "     unidade_organizacional  total_servidores  \n",
       "1587               REITORIA                 0  "
      ],
      "text/html": [
       "<div>\n",
       "<style scoped>\n",
       "    .dataframe tbody tr th:only-of-type {\n",
       "        vertical-align: middle;\n",
       "    }\n",
       "\n",
       "    .dataframe tbody tr th {\n",
       "        vertical-align: top;\n",
       "    }\n",
       "\n",
       "    .dataframe thead th {\n",
       "        text-align: right;\n",
       "    }\n",
       "</style>\n",
       "<table border=\"1\" class=\"dataframe\">\n",
       "  <thead>\n",
       "    <tr style=\"text-align: right;\">\n",
       "      <th></th>\n",
       "      <th>nome</th>\n",
       "      <th>sigla</th>\n",
       "      <th>sigla_superior</th>\n",
       "      <th>unidade_organizacional</th>\n",
       "      <th>total_servidores</th>\n",
       "    </tr>\n",
       "  </thead>\n",
       "  <tbody>\n",
       "    <tr>\n",
       "      <th>1587</th>\n",
       "      <td>COORD. PROD.FOLHA PAG. PESSOAL-RE</td>\n",
       "      <td>CPFP-RE</td>\n",
       "      <td>DCPP-RE</td>\n",
       "      <td>REITORIA</td>\n",
       "      <td>0</td>\n",
       "    </tr>\n",
       "  </tbody>\n",
       "</table>\n",
       "</div>"
      ]
     },
     "execution_count": 11,
     "metadata": {},
     "output_type": "execute_result"
    }
   ],
   "execution_count": 11
  },
  {
   "metadata": {
    "ExecuteTime": {
     "end_time": "2025-01-07T23:18:39.218282Z",
     "start_time": "2025-01-07T23:18:39.188062Z"
    }
   },
   "cell_type": "code",
   "source": [
    "duplicadas = df.loc[df.duplicated(keep=False)]\n",
    "print(duplicadas)"
   ],
   "id": "5ed7c27e65c1edf8",
   "outputs": [
    {
     "name": "stdout",
     "output_type": "stream",
     "text": [
      "                                   nome    sigla sigla_superior  \\\n",
      "829   COORD. PROD.FOLHA PAG. PESSOAL-RE  CPFP-RE        DCPP-RE   \n",
      "1587  COORD. PROD.FOLHA PAG. PESSOAL-RE  CPFP-RE        DCPP-RE   \n",
      "\n",
      "     unidade_organizacional  total_servidores  \n",
      "829                REITORIA                 0  \n",
      "1587               REITORIA                 0  \n"
     ]
    }
   ],
   "execution_count": 12
  },
  {
   "metadata": {},
   "cell_type": "code",
   "outputs": [],
   "execution_count": null,
   "source": "",
   "id": "355e1643fd570918"
  },
  {
   "metadata": {},
   "cell_type": "code",
   "outputs": [],
   "execution_count": null,
   "source": "",
   "id": "be126dccb87d9ab"
  },
  {
   "metadata": {
    "ExecuteTime": {
     "end_time": "2025-01-07T23:19:27.442057Z",
     "start_time": "2025-01-07T23:19:27.380166Z"
    }
   },
   "cell_type": "code",
   "source": "df",
   "id": "dca75ff214be2c7",
   "outputs": [
    {
     "data": {
      "text/plain": [
       "                                                   nome         sigla  \\\n",
       "0                          INSTITUTO FEDERAL DA PARAIBA          IFPB   \n",
       "1                          INSTITUTO FEDERAL DA PARAIBA          IFPB   \n",
       "2                                      REITORIA DO IFPB     REITOR-RE   \n",
       "3                                      REITORIA DO IFPB      REITORIA   \n",
       "4                                    CHEFIA GABINETE-RE         CG-RE   \n",
       "...                                                 ...           ...   \n",
       "1956      COMISSAO LOCAL DE ACOMPANHAMENTO DAS AENPS-SS    CLAGANP-SS   \n",
       "1957              COMITÊ DE INOVAÇÃO DO IFPB - REITORIA  COINOVA-IFPB   \n",
       "1958  COMISSÃO ELEITORAL LOCAL - CAMPUS PRINCESA ISABEL    CELOCAL-PI   \n",
       "1959                   NUCLEO DE DESAFIOS ACADEMICOS-JP        NDA-JP   \n",
       "1960  COORDENACAO DO PROJETO DE EXTENSAO RESIDENCIA ...     CPERPA-SS   \n",
       "\n",
       "     sigla_superior  unidade_organizacional  total_servidores  \n",
       "0     NAO INFORMADO                REITORIA                 0  \n",
       "1     NAO INFORMADO           NAO INFORMADO              2490  \n",
       "2              IFPB                REITORIA                 0  \n",
       "3              IFPB                REITORIA              2490  \n",
       "4              IFPB                REITORIA                 0  \n",
       "...             ...                     ...               ...  \n",
       "1956         DDE-SS            CAMPUS SOUSA                 0  \n",
       "1957      PRPIPG-RE                REITORIA                 0  \n",
       "1958          DG-PI  CAMPUS PRINCESA ISABEL                 0  \n",
       "1959      DIPPED-JP      CAMPUS JOÃO PESSOA                 1  \n",
       "1960         DDE-SS            CAMPUS SOUSA                 0  \n",
       "\n",
       "[1961 rows x 5 columns]"
      ],
      "text/html": [
       "<div>\n",
       "<style scoped>\n",
       "    .dataframe tbody tr th:only-of-type {\n",
       "        vertical-align: middle;\n",
       "    }\n",
       "\n",
       "    .dataframe tbody tr th {\n",
       "        vertical-align: top;\n",
       "    }\n",
       "\n",
       "    .dataframe thead th {\n",
       "        text-align: right;\n",
       "    }\n",
       "</style>\n",
       "<table border=\"1\" class=\"dataframe\">\n",
       "  <thead>\n",
       "    <tr style=\"text-align: right;\">\n",
       "      <th></th>\n",
       "      <th>nome</th>\n",
       "      <th>sigla</th>\n",
       "      <th>sigla_superior</th>\n",
       "      <th>unidade_organizacional</th>\n",
       "      <th>total_servidores</th>\n",
       "    </tr>\n",
       "  </thead>\n",
       "  <tbody>\n",
       "    <tr>\n",
       "      <th>0</th>\n",
       "      <td>INSTITUTO FEDERAL DA PARAIBA</td>\n",
       "      <td>IFPB</td>\n",
       "      <td>NAO INFORMADO</td>\n",
       "      <td>REITORIA</td>\n",
       "      <td>0</td>\n",
       "    </tr>\n",
       "    <tr>\n",
       "      <th>1</th>\n",
       "      <td>INSTITUTO FEDERAL DA PARAIBA</td>\n",
       "      <td>IFPB</td>\n",
       "      <td>NAO INFORMADO</td>\n",
       "      <td>NAO INFORMADO</td>\n",
       "      <td>2490</td>\n",
       "    </tr>\n",
       "    <tr>\n",
       "      <th>2</th>\n",
       "      <td>REITORIA DO IFPB</td>\n",
       "      <td>REITOR-RE</td>\n",
       "      <td>IFPB</td>\n",
       "      <td>REITORIA</td>\n",
       "      <td>0</td>\n",
       "    </tr>\n",
       "    <tr>\n",
       "      <th>3</th>\n",
       "      <td>REITORIA DO IFPB</td>\n",
       "      <td>REITORIA</td>\n",
       "      <td>IFPB</td>\n",
       "      <td>REITORIA</td>\n",
       "      <td>2490</td>\n",
       "    </tr>\n",
       "    <tr>\n",
       "      <th>4</th>\n",
       "      <td>CHEFIA GABINETE-RE</td>\n",
       "      <td>CG-RE</td>\n",
       "      <td>IFPB</td>\n",
       "      <td>REITORIA</td>\n",
       "      <td>0</td>\n",
       "    </tr>\n",
       "    <tr>\n",
       "      <th>...</th>\n",
       "      <td>...</td>\n",
       "      <td>...</td>\n",
       "      <td>...</td>\n",
       "      <td>...</td>\n",
       "      <td>...</td>\n",
       "    </tr>\n",
       "    <tr>\n",
       "      <th>1956</th>\n",
       "      <td>COMISSAO LOCAL DE ACOMPANHAMENTO DAS AENPS-SS</td>\n",
       "      <td>CLAGANP-SS</td>\n",
       "      <td>DDE-SS</td>\n",
       "      <td>CAMPUS SOUSA</td>\n",
       "      <td>0</td>\n",
       "    </tr>\n",
       "    <tr>\n",
       "      <th>1957</th>\n",
       "      <td>COMITÊ DE INOVAÇÃO DO IFPB - REITORIA</td>\n",
       "      <td>COINOVA-IFPB</td>\n",
       "      <td>PRPIPG-RE</td>\n",
       "      <td>REITORIA</td>\n",
       "      <td>0</td>\n",
       "    </tr>\n",
       "    <tr>\n",
       "      <th>1958</th>\n",
       "      <td>COMISSÃO ELEITORAL LOCAL - CAMPUS PRINCESA ISABEL</td>\n",
       "      <td>CELOCAL-PI</td>\n",
       "      <td>DG-PI</td>\n",
       "      <td>CAMPUS PRINCESA ISABEL</td>\n",
       "      <td>0</td>\n",
       "    </tr>\n",
       "    <tr>\n",
       "      <th>1959</th>\n",
       "      <td>NUCLEO DE DESAFIOS ACADEMICOS-JP</td>\n",
       "      <td>NDA-JP</td>\n",
       "      <td>DIPPED-JP</td>\n",
       "      <td>CAMPUS JOÃO PESSOA</td>\n",
       "      <td>1</td>\n",
       "    </tr>\n",
       "    <tr>\n",
       "      <th>1960</th>\n",
       "      <td>COORDENACAO DO PROJETO DE EXTENSAO RESIDENCIA ...</td>\n",
       "      <td>CPERPA-SS</td>\n",
       "      <td>DDE-SS</td>\n",
       "      <td>CAMPUS SOUSA</td>\n",
       "      <td>0</td>\n",
       "    </tr>\n",
       "  </tbody>\n",
       "</table>\n",
       "<p>1961 rows × 5 columns</p>\n",
       "</div>"
      ]
     },
     "execution_count": 13,
     "metadata": {},
     "output_type": "execute_result"
    }
   ],
   "execution_count": 13
  },
  {
   "metadata": {
    "ExecuteTime": {
     "end_time": "2025-01-07T23:21:59.488480Z",
     "start_time": "2025-01-07T23:21:59.454758Z"
    }
   },
   "cell_type": "code",
   "source": "df_sem_duplicadas = df.drop_duplicates()",
   "id": "b5a0742dabfdc72b",
   "outputs": [],
   "execution_count": 15
  },
  {
   "metadata": {
    "ExecuteTime": {
     "end_time": "2025-01-07T23:23:39.423395Z",
     "start_time": "2025-01-07T23:23:39.393490Z"
    }
   },
   "cell_type": "code",
   "source": [
    "df_sem_duplicadas = df.loc[df.duplicated(keep=False)]\n",
    "print(df_sem_duplicadas)"
   ],
   "id": "7ffb1685a8353ce3",
   "outputs": [
    {
     "name": "stdout",
     "output_type": "stream",
     "text": [
      "                                   nome    sigla sigla_superior  \\\n",
      "829   COORD. PROD.FOLHA PAG. PESSOAL-RE  CPFP-RE        DCPP-RE   \n",
      "1587  COORD. PROD.FOLHA PAG. PESSOAL-RE  CPFP-RE        DCPP-RE   \n",
      "\n",
      "     unidade_organizacional  total_servidores  \n",
      "829                REITORIA                 0  \n",
      "1587               REITORIA                 0  \n"
     ]
    }
   ],
   "execution_count": 17
  },
  {
   "metadata": {
    "ExecuteTime": {
     "end_time": "2025-01-07T23:28:10.731732Z",
     "start_time": "2025-01-07T23:28:10.701722Z"
    }
   },
   "cell_type": "code",
   "source": "df_sem_linha = df.drop(index=1587)",
   "id": "f7ef810a9b952a39",
   "outputs": [],
   "execution_count": 19
  },
  {
   "metadata": {
    "ExecuteTime": {
     "end_time": "2025-01-07T23:28:58.108488Z",
     "start_time": "2025-01-07T23:28:58.071847Z"
    }
   },
   "cell_type": "code",
   "source": [
    "duplicadas = df_sem_linha.loc[df.duplicated(keep=False)]\n",
    "print(duplicadas)"
   ],
   "id": "75317cff7e5d13b4",
   "outputs": [
    {
     "name": "stdout",
     "output_type": "stream",
     "text": [
      "                                  nome    sigla sigla_superior  \\\n",
      "829  COORD. PROD.FOLHA PAG. PESSOAL-RE  CPFP-RE        DCPP-RE   \n",
      "\n",
      "    unidade_organizacional  total_servidores  \n",
      "829               REITORIA                 0  \n"
     ]
    }
   ],
   "execution_count": 21
  },
  {
   "metadata": {
    "ExecuteTime": {
     "end_time": "2025-01-07T23:29:59.342272Z",
     "start_time": "2025-01-07T23:29:59.277694Z"
    }
   },
   "cell_type": "code",
   "source": "df_sem_linha.info()",
   "id": "a0cbfe48e072f259",
   "outputs": [
    {
     "name": "stdout",
     "output_type": "stream",
     "text": [
      "<class 'pandas.core.frame.DataFrame'>\n",
      "Index: 1960 entries, 0 to 1960\n",
      "Data columns (total 5 columns):\n",
      " #   Column                  Non-Null Count  Dtype \n",
      "---  ------                  --------------  ----- \n",
      " 0   nome                    1960 non-null   object\n",
      " 1   sigla                   1960 non-null   object\n",
      " 2   sigla_superior          1960 non-null   object\n",
      " 3   unidade_organizacional  1960 non-null   object\n",
      " 4   total_servidores        1960 non-null   int64 \n",
      "dtypes: int64(1), object(4)\n",
      "memory usage: 91.9+ KB\n"
     ]
    }
   ],
   "execution_count": 22
  },
  {
   "metadata": {
    "ExecuteTime": {
     "end_time": "2025-01-07T23:31:21.769540Z",
     "start_time": "2025-01-07T23:31:21.727970Z"
    }
   },
   "cell_type": "code",
   "source": "df_sem_linha.to_csv('setores_ifpb.csv', index=False)",
   "id": "cf389de7b30e69e5",
   "outputs": [],
   "execution_count": 23
  },
  {
   "metadata": {
    "ExecuteTime": {
     "end_time": "2025-01-08T00:02:17.641796Z",
     "start_time": "2025-01-08T00:02:17.489253Z"
    }
   },
   "cell_type": "code",
   "source": [
    "df = pd.read_csv('setores_ifpb.csv')\n",
    "df"
   ],
   "id": "fe445c2eb1c7dd2c",
   "outputs": [
    {
     "data": {
      "text/plain": [
       "                                                   nome         sigla  \\\n",
       "0                          INSTITUTO FEDERAL DA PARAIBA          IFPB   \n",
       "1                          INSTITUTO FEDERAL DA PARAIBA          IFPB   \n",
       "2                                      REITORIA DO IFPB     REITOR-RE   \n",
       "3                                      REITORIA DO IFPB      REITORIA   \n",
       "4                                    CHEFIA GABINETE-RE         CG-RE   \n",
       "...                                                 ...           ...   \n",
       "1955      COMISSAO LOCAL DE ACOMPANHAMENTO DAS AENPS-SS    CLAGANP-SS   \n",
       "1956              COMITÊ DE INOVAÇÃO DO IFPB - REITORIA  COINOVA-IFPB   \n",
       "1957  COMISSÃO ELEITORAL LOCAL - CAMPUS PRINCESA ISABEL    CELOCAL-PI   \n",
       "1958                   NUCLEO DE DESAFIOS ACADEMICOS-JP        NDA-JP   \n",
       "1959  COORDENACAO DO PROJETO DE EXTENSAO RESIDENCIA ...     CPERPA-SS   \n",
       "\n",
       "     sigla_superior  unidade_organizacional  total_servidores  \n",
       "0     NAO INFORMADO                REITORIA                 0  \n",
       "1     NAO INFORMADO           NAO INFORMADO              2490  \n",
       "2              IFPB                REITORIA                 0  \n",
       "3              IFPB                REITORIA              2490  \n",
       "4              IFPB                REITORIA                 0  \n",
       "...             ...                     ...               ...  \n",
       "1955         DDE-SS            CAMPUS SOUSA                 0  \n",
       "1956      PRPIPG-RE                REITORIA                 0  \n",
       "1957          DG-PI  CAMPUS PRINCESA ISABEL                 0  \n",
       "1958      DIPPED-JP      CAMPUS JOÃO PESSOA                 1  \n",
       "1959         DDE-SS            CAMPUS SOUSA                 0  \n",
       "\n",
       "[1960 rows x 5 columns]"
      ],
      "text/html": [
       "<div>\n",
       "<style scoped>\n",
       "    .dataframe tbody tr th:only-of-type {\n",
       "        vertical-align: middle;\n",
       "    }\n",
       "\n",
       "    .dataframe tbody tr th {\n",
       "        vertical-align: top;\n",
       "    }\n",
       "\n",
       "    .dataframe thead th {\n",
       "        text-align: right;\n",
       "    }\n",
       "</style>\n",
       "<table border=\"1\" class=\"dataframe\">\n",
       "  <thead>\n",
       "    <tr style=\"text-align: right;\">\n",
       "      <th></th>\n",
       "      <th>nome</th>\n",
       "      <th>sigla</th>\n",
       "      <th>sigla_superior</th>\n",
       "      <th>unidade_organizacional</th>\n",
       "      <th>total_servidores</th>\n",
       "    </tr>\n",
       "  </thead>\n",
       "  <tbody>\n",
       "    <tr>\n",
       "      <th>0</th>\n",
       "      <td>INSTITUTO FEDERAL DA PARAIBA</td>\n",
       "      <td>IFPB</td>\n",
       "      <td>NAO INFORMADO</td>\n",
       "      <td>REITORIA</td>\n",
       "      <td>0</td>\n",
       "    </tr>\n",
       "    <tr>\n",
       "      <th>1</th>\n",
       "      <td>INSTITUTO FEDERAL DA PARAIBA</td>\n",
       "      <td>IFPB</td>\n",
       "      <td>NAO INFORMADO</td>\n",
       "      <td>NAO INFORMADO</td>\n",
       "      <td>2490</td>\n",
       "    </tr>\n",
       "    <tr>\n",
       "      <th>2</th>\n",
       "      <td>REITORIA DO IFPB</td>\n",
       "      <td>REITOR-RE</td>\n",
       "      <td>IFPB</td>\n",
       "      <td>REITORIA</td>\n",
       "      <td>0</td>\n",
       "    </tr>\n",
       "    <tr>\n",
       "      <th>3</th>\n",
       "      <td>REITORIA DO IFPB</td>\n",
       "      <td>REITORIA</td>\n",
       "      <td>IFPB</td>\n",
       "      <td>REITORIA</td>\n",
       "      <td>2490</td>\n",
       "    </tr>\n",
       "    <tr>\n",
       "      <th>4</th>\n",
       "      <td>CHEFIA GABINETE-RE</td>\n",
       "      <td>CG-RE</td>\n",
       "      <td>IFPB</td>\n",
       "      <td>REITORIA</td>\n",
       "      <td>0</td>\n",
       "    </tr>\n",
       "    <tr>\n",
       "      <th>...</th>\n",
       "      <td>...</td>\n",
       "      <td>...</td>\n",
       "      <td>...</td>\n",
       "      <td>...</td>\n",
       "      <td>...</td>\n",
       "    </tr>\n",
       "    <tr>\n",
       "      <th>1955</th>\n",
       "      <td>COMISSAO LOCAL DE ACOMPANHAMENTO DAS AENPS-SS</td>\n",
       "      <td>CLAGANP-SS</td>\n",
       "      <td>DDE-SS</td>\n",
       "      <td>CAMPUS SOUSA</td>\n",
       "      <td>0</td>\n",
       "    </tr>\n",
       "    <tr>\n",
       "      <th>1956</th>\n",
       "      <td>COMITÊ DE INOVAÇÃO DO IFPB - REITORIA</td>\n",
       "      <td>COINOVA-IFPB</td>\n",
       "      <td>PRPIPG-RE</td>\n",
       "      <td>REITORIA</td>\n",
       "      <td>0</td>\n",
       "    </tr>\n",
       "    <tr>\n",
       "      <th>1957</th>\n",
       "      <td>COMISSÃO ELEITORAL LOCAL - CAMPUS PRINCESA ISABEL</td>\n",
       "      <td>CELOCAL-PI</td>\n",
       "      <td>DG-PI</td>\n",
       "      <td>CAMPUS PRINCESA ISABEL</td>\n",
       "      <td>0</td>\n",
       "    </tr>\n",
       "    <tr>\n",
       "      <th>1958</th>\n",
       "      <td>NUCLEO DE DESAFIOS ACADEMICOS-JP</td>\n",
       "      <td>NDA-JP</td>\n",
       "      <td>DIPPED-JP</td>\n",
       "      <td>CAMPUS JOÃO PESSOA</td>\n",
       "      <td>1</td>\n",
       "    </tr>\n",
       "    <tr>\n",
       "      <th>1959</th>\n",
       "      <td>COORDENACAO DO PROJETO DE EXTENSAO RESIDENCIA ...</td>\n",
       "      <td>CPERPA-SS</td>\n",
       "      <td>DDE-SS</td>\n",
       "      <td>CAMPUS SOUSA</td>\n",
       "      <td>0</td>\n",
       "    </tr>\n",
       "  </tbody>\n",
       "</table>\n",
       "<p>1960 rows × 5 columns</p>\n",
       "</div>"
      ]
     },
     "execution_count": 6,
     "metadata": {},
     "output_type": "execute_result"
    }
   ],
   "execution_count": 6
  },
  {
   "metadata": {
    "ExecuteTime": {
     "end_time": "2025-01-08T00:02:41.650933Z",
     "start_time": "2025-01-08T00:02:41.630927Z"
    }
   },
   "cell_type": "code",
   "source": [
    "zeros_count = (df['total_servidores'] == 0).sum()\n",
    "\n",
    "print(f\"Quantidade de valores 0 na coluna 'total_servidores': {zeros_count}\")"
   ],
   "id": "477781144cce760b",
   "outputs": [
    {
     "name": "stdout",
     "output_type": "stream",
     "text": [
      "Quantidade de valores 0 na coluna 'total_servidores': 1320\n"
     ]
    }
   ],
   "execution_count": 7
  },
  {
   "metadata": {
    "ExecuteTime": {
     "end_time": "2025-01-08T00:04:39.837182Z",
     "start_time": "2025-01-08T00:04:39.796151Z"
    }
   },
   "cell_type": "code",
   "source": [
    "df_sem_zeros = df[df['total_servidores'] != 0]\n",
    "\n",
    "print(\"\\nDataFrame após remover as linhas com 'total_servidores' igual a 0:\")\n",
    "print(df_sem_zeros)"
   ],
   "id": "9507577efe4e61ae",
   "outputs": [
    {
     "name": "stdout",
     "output_type": "stream",
     "text": [
      "\n",
      "DataFrame após remover as linhas com 'total_servidores' igual a 0:\n",
      "                                                   nome      sigla  \\\n",
      "1                          INSTITUTO FEDERAL DA PARAIBA       IFPB   \n",
      "3                                      REITORIA DO IFPB   REITORIA   \n",
      "5                          GABINETE-REITORIA - REITORIA     GAB-RE   \n",
      "7                                PRÓ-REITORIA DE ENSINO     PRE-RE   \n",
      "9                    PRÓ-REITORIA DE EXTENSÃO E CULTURA  PROEXC-RE   \n",
      "...                                                 ...        ...   \n",
      "1938  COORDENACAO DO CURSO DE INFORMATICA - CAMPUS S...   COINF-SL   \n",
      "1939  COORDENACAO PEDAGOGICA E DE APOIO AO ESTUDANTE...   COPAE-SL   \n",
      "1953  COMISSAO ELEITORAL DO CONSELHO DIRETOR - CAMPU...    CECD-MT   \n",
      "1954                         COORDENACAO DE FINANCAS-SL      CF-SL   \n",
      "1958                   NUCLEO DE DESAFIOS ACADEMICOS-JP     NDA-JP   \n",
      "\n",
      "     sigla_superior unidade_organizacional  total_servidores  \n",
      "1     NAO INFORMADO          NAO INFORMADO              2490  \n",
      "3              IFPB               REITORIA              2490  \n",
      "5          REITORIA               REITORIA                 9  \n",
      "7          REITORIA               REITORIA                59  \n",
      "9          REITORIA               REITORIA                14  \n",
      "...             ...                    ...               ...  \n",
      "1938         DDE-SL     CAMPUS SANTA LUZIA                10  \n",
      "1939         DDE-SL     CAMPUS SANTA LUZIA                 3  \n",
      "1953      CAMPUS-MT        CAMPUS MONTEIRO                 1  \n",
      "1954        DAPF-SL     CAMPUS SANTA LUZIA                 1  \n",
      "1958      DIPPED-JP     CAMPUS JOÃO PESSOA                 1  \n",
      "\n",
      "[640 rows x 5 columns]\n"
     ]
    }
   ],
   "execution_count": 8
  },
  {
   "metadata": {
    "ExecuteTime": {
     "end_time": "2025-01-08T00:06:30.889751Z",
     "start_time": "2025-01-08T00:06:30.870133Z"
    }
   },
   "cell_type": "code",
   "source": [
    "zeros_count = (df_sem_zeros['total_servidores'] == 0).sum()\n",
    "\n",
    "print(f\"Quantidade de valores 0 na coluna 'total_servidores': {zeros_count}\")"
   ],
   "id": "af34e2c47cff35e5",
   "outputs": [
    {
     "name": "stdout",
     "output_type": "stream",
     "text": [
      "Quantidade de valores 0 na coluna 'total_servidores': 0\n"
     ]
    }
   ],
   "execution_count": 9
  },
  {
   "metadata": {
    "ExecuteTime": {
     "end_time": "2025-01-08T00:08:13.840663Z",
     "start_time": "2025-01-08T00:08:13.785674Z"
    }
   },
   "cell_type": "code",
   "source": "df_sem_zeros.to_csv('setores_ifpb_atualizado.csv', index=False)",
   "id": "36ad715f4a0305f6",
   "outputs": [],
   "execution_count": 10
  }
 ],
 "metadata": {
  "kernelspec": {
   "display_name": "Python 3",
   "language": "python",
   "name": "python3"
  },
  "language_info": {
   "codemirror_mode": {
    "name": "ipython",
    "version": 2
   },
   "file_extension": ".py",
   "mimetype": "text/x-python",
   "name": "python",
   "nbconvert_exporter": "python",
   "pygments_lexer": "ipython2",
   "version": "2.7.6"
  }
 },
 "nbformat": 4,
 "nbformat_minor": 5
}
